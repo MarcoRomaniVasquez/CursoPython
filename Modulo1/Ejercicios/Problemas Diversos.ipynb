{
 "cells": [
  {
   "cell_type": "markdown",
   "metadata": {},
   "source": [
    "# PROBLEMAS DIVERSOS"
   ]
  },
  {
   "cell_type": "markdown",
   "metadata": {},
   "source": [
    "<h3>1.</h3>\n",
    "Escribí un programa que solicite al usuario ingresar la cantidad de kilómetros recorridos por una motocicleta y la cantidad de litros de combustible que consumió durante ese recorrido. Mostrar el consumo de combustible por kilómetro."
   ]
  },
  {
   "cell_type": "markdown",
   "metadata": {},
   "source": [
    "<code>Kilómetros recorridos: 260\n",
    "Litros de combustible gastados: 12.5\n",
    "El consumo por kilómetro es de 20.8<code>"
   ]
  },
  {
   "cell_type": "code",
   "execution_count": 1,
   "metadata": {},
   "outputs": [
    {
     "name": "stdin",
     "output_type": "stream",
     "text": [
      "Ingrese kilimetros recorridos:  260\n",
      "Ingrese cantidad de litros de combustible:  12.5\n"
     ]
    },
    {
     "name": "stdout",
     "output_type": "stream",
     "text": [
      "Kilómetros recorridos:  260.0\n",
      "Litros de combustible gastados:  12.5\n",
      "El consumo por kilómetro es de  20.8\n"
     ]
    }
   ],
   "source": [
    "kil= float (input(\"Ingrese kilimetros recorridos: \"))\n",
    "gas=float (input(\"Ingrese cantidad de litros de combustible: \"))\n",
    "\n",
    "resul=float (kil/gas)\n",
    "\n",
    "print (\"Kilómetros recorridos: \",kil)\n",
    "print (\"Litros de combustible gastados: \",gas)\n",
    "print (\"El consumo por kilómetro es de \",resul)"
   ]
  },
  {
   "cell_type": "markdown",
   "metadata": {},
   "source": [
    "### 2.\n",
    "Escriba un programa que pida los coeficientes de una ecuación de segundo grado <code>(a x² + b x + c = 0)</code> y escriba la solución.\n",
    "\n",
    "Se recuerda que una ecuación de segundo grado puede no tener solución, tener una solución única, tener dos soluciones o que todos los números sean solución."
   ]
  },
  {
   "cell_type": "markdown",
   "metadata": {},
   "source": [
    "<img src='https://i.pinimg.com/originals/d3/f7/01/d3f701528ad56ce0f5a98d7c91722fd7.png'>"
   ]
  },
  {
   "cell_type": "markdown",
   "metadata": {},
   "source": [
    "Su programa debe indicar:\n",
    "- En caso la ecuación cuadrática tenga solución real, su programa debe brindar la solución\n",
    "- En caso su ecuación no tenga solución real, su programa debe brindar un mensaje que diga \"Ecuación no presenta solución real\""
   ]
  },
  {
   "cell_type": "code",
   "execution_count": 2,
   "metadata": {},
   "outputs": [
    {
     "name": "stdin",
     "output_type": "stream",
     "text": [
      "ingrese primer coeficiente:  2\n",
      "ingrese segundo coeficiente:  3\n",
      "ingrese tercer coeficiente:  1\n"
     ]
    },
    {
     "name": "stdout",
     "output_type": "stream",
     "text": [
      "1.0\n",
      "la ecuacion tiene 2 soluciones distintas: \n",
      " x1=  -2.5 \n",
      " x2=  -3.5\n"
     ]
    }
   ],
   "source": [
    "a= float (input(\"ingrese primer coeficiente: \"))\n",
    "b= float (input(\"ingrese segundo coeficiente: \"))\n",
    "c= float (input(\"ingrese tercer coeficiente: \"))\n",
    "\n",
    "x1=float(((-b+(b**2-4*a*c)**1/2)/2*a))\n",
    "x2=float(((-b-(b**2-4*a*c)**1/2)/2*a))\n",
    "\n",
    "dis= float(b**2-4*a*c)\n",
    "print (dis)\n",
    "if dis > 0:\n",
    "    print (\"la ecuacion tiene 2 soluciones distintas: \\n\",\"x1= \",x1,\"\\n\",\"x2= \",x2)\n",
    "if dis == 0:\n",
    "    print (\"tiene sólo una raíz real:\", -b/2*a)\n",
    "if dis < 0:\n",
    "    print (\"Ecuación No presenta solución real\")"
   ]
  },
  {
   "cell_type": "code",
   "execution_count": null,
   "metadata": {},
   "outputs": [],
   "source": []
  }
 ],
 "metadata": {
  "kernelspec": {
   "display_name": "Python 3",
   "language": "python",
   "name": "python3"
  },
  "language_info": {
   "codemirror_mode": {
    "name": "ipython",
    "version": 3
   },
   "file_extension": ".py",
   "mimetype": "text/x-python",
   "name": "python",
   "nbconvert_exporter": "python",
   "pygments_lexer": "ipython3",
   "version": "3.8.5"
  }
 },
 "nbformat": 4,
 "nbformat_minor": 4
}
